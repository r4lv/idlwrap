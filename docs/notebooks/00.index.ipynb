{
 "cells": [
  {
   "cell_type": "markdown",
   "metadata": {},
   "source": [
    "# idlwrap"
   ]
  },
  {
   "cell_type": "code",
   "execution_count": 1,
   "metadata": {},
   "outputs": [
    {
     "data": {
      "text/plain": [
       "array([[ 0,  1,  2],\n",
       "       [ 3,  4,  5],\n",
       "       [ 6,  7,  8],\n",
       "       [ 9, 10, 11]])"
      ]
     },
     "execution_count": 1,
     "metadata": {},
     "output_type": "execute_result"
    }
   ],
   "source": [
    "import idlwrap\n",
    "\n",
    "idlwrap.indgen(3, 4)"
   ]
  },
  {
   "cell_type": "markdown",
   "metadata": {},
   "source": [
    "*idlwrap* aims to abstract away all differences in IDL and python and provide the interface and functions you know from IDL, but using `scipy` and `numpy` under the hood. It helps you transitionning from IDL to python by providing all the little things which are special about IDL — but being powered entirely by python.\n",
    "\n",
    "> No IDL is required to run *idlwrap*, as it is pure python!\n",
    "\n",
    "\n",
    "## what does idlwrap do?\n",
    "\n",
    "Let's see what *idlwrap* does by looking at an example. This piece of code is taken directly from the *idlwrap* source code:\n",
    "\n",
    "``` python\n",
    "def round(x):\n",
    "    return np.trunc(x+np.copysign(0.5,x)).astype(int)\n",
    "```\n",
    "\n",
    "The `idlwrap.round()` replicates the behaviour of IDL's `ROUND` function, by using `numpy` internally. In IDL, `ROUND` uses **half-away-from-zero**, meaning that `3.5` is rounded to `4`, and `4.5` is rounded to `5`:\n",
    "``` IDL\n",
    "IDL> PRINT, ROUND(3.5), ROUND(4.5), ROUND(5.5), ROUND(6.5)\n",
    "           4           5           6           7\n",
    "```\n",
    "\n",
    "Whereas in python/numpy, rounding works differently: they round **half-to-even**, as defined in the IEEE-754 standard, meaning both `3.5` and `4.5` are rounded to `4`:"
   ]
  },
  {
   "cell_type": "code",
   "execution_count": 2,
   "metadata": {},
   "outputs": [
    {
     "data": {
      "text/plain": [
       "(4.0, 4.0, 6.0, 6.0)"
      ]
     },
     "execution_count": 2,
     "metadata": {},
     "output_type": "execute_result"
    }
   ],
   "source": [
    "import numpy as np\n",
    "np.round(3.5), np.round(4.5), np.round(5.5), np.round(6.5)"
   ]
  },
  {
   "cell_type": "markdown",
   "metadata": {},
   "source": [
    "Now, you do not have to worry about these little beasts when porting an old IDL codebase to python. We worried about that already! Just `import idlwrap` and you're ready to go!\n",
    "\n",
    "With *idlwrap*, you'd just write"
   ]
  },
  {
   "cell_type": "code",
   "execution_count": 3,
   "metadata": {},
   "outputs": [
    {
     "data": {
      "text/plain": [
       "(4, 5, 6, 7)"
      ]
     },
     "execution_count": 3,
     "metadata": {},
     "output_type": "execute_result"
    }
   ],
   "source": [
    "idlwrap.round(3.5), idlwrap.round(4.5), idlwrap.round(5.5), idlwrap.round(6.5)"
   ]
  },
  {
   "cell_type": "markdown",
   "metadata": {},
   "source": [
    "and you get exactly what you would have expected form IDL."
   ]
  },
  {
   "cell_type": "markdown",
   "metadata": {},
   "source": [
    "## installing\n",
    "\n",
    "`idlwrap` can be installed through pip\n",
    "\n",
    "``` bash\n",
    "pip install idlwrap\n",
    "```\n",
    "\n",
    "or download or clone the source code from the [repository](https://github.com/r4lv/idlwrap):\n",
    "\n",
    "``` bash\n",
    "git clone \"https://github.com/r4lv/idlwrap\"\n",
    "cd \"idlwrap\"\n",
    "python setup.py install\n",
    "```"
   ]
  },
  {
   "cell_type": "code",
   "execution_count": null,
   "metadata": {},
   "outputs": [],
   "source": []
  }
 ],
 "metadata": {
  "kernelspec": {
   "display_name": "Python 3",
   "language": "python",
   "name": "python3"
  },
  "language_info": {
   "codemirror_mode": {
    "name": "ipython",
    "version": 3
   },
   "file_extension": ".py",
   "mimetype": "text/x-python",
   "name": "python",
   "nbconvert_exporter": "python",
   "pygments_lexer": "ipython3",
   "version": "3.6.4"
  },
  "toc": {
   "nav_menu": {},
   "number_sections": false,
   "sideBar": true,
   "skip_h1_title": false,
   "title_cell": "Table of Contents",
   "title_sidebar": "Contents",
   "toc_cell": false,
   "toc_position": {
    "height": "calc(100% - 180px)",
    "left": "10px",
    "top": "150px",
    "width": "356px"
   },
   "toc_section_display": true,
   "toc_window_display": true
  }
 },
 "nbformat": 4,
 "nbformat_minor": 2
}
